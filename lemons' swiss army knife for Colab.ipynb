{
  "cells": [
    {
      "cell_type": "markdown",
      "metadata": {
        "id": "view-in-github",
        "colab_type": "text"
      },
      "source": [
        "<a href=\"https://colab.research.google.com/github/lem6ns/colab-swiss-army-knife/blob/master/lemons'_swiss_army_knife_for_Colab.ipynb\" target=\"_parent\"><img src=\"https://colab.research.google.com/assets/colab-badge.svg\" alt=\"Open In Colab\"/></a>"
      ]
    },
    {
      "cell_type": "markdown",
      "metadata": {
        "id": "91VgXyYFE-ZG"
      },
      "source": [
        "# lemons' Swiss Army Knife for Google Colab"
      ]
    },
    {
      "cell_type": "markdown",
      "metadata": {
        "id": "pu4EmbQNE-ZI"
      },
      "source": [
        "## Mounting Google Drive\n",
        "This is important, you should run this every time you use this notebook."
      ]
    },
    {
      "cell_type": "code",
      "execution_count": null,
      "metadata": {
        "cellView": "form",
        "id": "9QJBRePKE-ZJ"
      },
      "outputs": [],
      "source": [
        "#@markdown <br><center><img src='https://upload.wikimedia.org/wikipedia/commons/thumb/d/da/Google_Drive_logo.png/600px-Google_Drive_logo.png' height=\"50\" alt=\"Gdrive-logo\"/></center>\n",
        "#@markdown <center><h3>Mount GDrive to /content/drive</h3></center><br>\n",
        "MODE = \"MOUNT\" #@param [\"MOUNT\", \"UNMOUNT\"]\n",
        "#Mount your Gdrive! \n",
        "from google.colab import drive\n",
        "drive.mount._DEBUG = False\n",
        "if MODE == \"MOUNT\":\n",
        "  drive.mount('/content/drive', force_remount=True)\n",
        "elif MODE == \"UNMOUNT\":\n",
        "  try:\n",
        "    drive.flush_and_unmount()\n",
        "  except ValueError:\n",
        "    pass\n",
        "  get_ipython().system_raw(\"rm -rf /root/.config/Google/DriveFS\")"
      ]
    },
    {
      "cell_type": "markdown",
      "metadata": {
        "id": "7lnMEBsTE-ZL"
      },
      "source": [
        "## Torrent to Google Drive\n",
        "credits to [Rishabh Singh](https://github.com/r12habh)"
      ]
    },
    {
      "cell_type": "markdown",
      "metadata": {
        "id": "saojDOwxE-ZM"
      },
      "source": [
        "### Installing dependencies\n",
        "Run this to install the required dependencies."
      ]
    },
    {
      "cell_type": "code",
      "execution_count": null,
      "metadata": {
        "colab": {
          "base_uri": "https://localhost:8080/"
        },
        "id": "uW4xVuLrE-ZN",
        "outputId": "37694f18-18f6-4e87-d927-5cd0118779c2"
      },
      "outputs": [],
      "source": [
        "!python -m pip install --upgrade pip setuptools wheel && python -m pip install lbry-libtorrent && apt install python3-libtorrent"
      ]
    },
    {
      "cell_type": "markdown",
      "metadata": {
        "id": "zkZDylxwE-ZO"
      },
      "source": [
        "### Torrenting\n",
        "Change the settings to your needs, and run it."
      ]
    },
    {
      "cell_type": "code",
      "execution_count": null,
      "metadata": {
        "cellView": "form",
        "id": "sc-Qn2D7E-ZP"
      },
      "outputs": [],
      "source": [
        "#@markdown <br><center><img src='https://www.goodfreephotos.com/albums/vector-images/download-icon-vector-clipart.png' height=\"50\" alt=\"Download Icon\"/></center>\n",
        "#@markdown <center><h3>Torrent to Google Drive</h3></center><br>\n",
        "import libtorrent as lt\n",
        "import time\n",
        "import datetime\n",
        "outputDirectory = \"/content/drive/\" #@param {type:\"string\"} \n",
        "\n",
        "def download_torrent():\n",
        "    ses = lt.session()\n",
        "    ses.listen_on(6881, 6891)\n",
        "    #@markdown <center><p>Input a Magnet Link or a Direct Link to a .torrent.</[]></center><br>\n",
        "    link = \"\" #@param {type:\"string\"}\n",
        "    print(link)\n",
        "\n",
        "    handle = lt.add_magnet_uri(ses, link, params)\n",
        "    # change the 0 to a 1 to download sequential - this sequential option is only if you selected zip. If not,\n",
        "    # scroll farther down.\n",
        "    #@markdown <center><p>Change this to \"1\" if you are zipping the torrent up.</p></center><br>\n",
        "    sequentialDownload = 0 #@param {type:\"slider\", min:0, max:1, step:1}\n",
        "    handle.set_sequential_download(0) \n",
        "\n",
        "    ses.start_dht()\n",
        "    begin = time.time()\n",
        "    print(datetime.datetime.now())\n",
        "\n",
        "    print('Downloading Metadata...')\n",
        "    while not handle.has_metadata():\n",
        "        time.sleep(1)\n",
        "    print('Got Metadata, Starting Torrent Download...')\n",
        "\n",
        "    print(\"Starting\", handle.name())\n",
        "\n",
        "    while handle.status().state != lt.torrent_status.seeding:\n",
        "        s = handle.status()\n",
        "        state_str = ['queued', 'checking', 'downloading metadata',\n",
        "                     'downloading', 'finished', 'seeding', 'allocating', 'checking fastresume']\n",
        "        print('%.2f%% complete (down: %.1f kb/s up: %.1f kB/s peers: %d) %s ' % \\\n",
        "              (s.progress * 100, s.download_rate / 1000, s.upload_rate / 1000, \\\n",
        "               s.num_peers, state_str[s.state]))\n",
        "        time.sleep(5)\n",
        "\n",
        "    end = time.time()\n",
        "    print(handle.name(), \"COMPLETE\")\n",
        "\n",
        "    print(\"Elapsed Time: \", int((end - begin) // 60), \"min :\", int((end - begin) % 60), \"sec\")\n",
        "\n",
        "    print(datetime.datetime.now())\n",
        "\n",
        "\n",
        "zipp = \"No\" #@param [\"Yes\", \"No\"]\n",
        "\n",
        "if zipp == 'Yes':\n",
        "    zip_name = \"\" #@param {type:\"string\"}\n",
        "    import shutil\n",
        "\n",
        "    params = {\n",
        "        'save_path': '/content/temp/',\n",
        "        'storage_mode': lt.storage_mode_t(2),\n",
        "    }\n",
        "    download_torrent()\n",
        "\n",
        "    print(\"now time to zip\")\n",
        "\n",
        "    print(\"Zipping ...\")\n",
        "    final_zip_directory = outputDirectory + \"/\" + zip_name\n",
        "    shutil.make_archive(final_zip_directory, 'zip', '/content/temp/')\n",
        "    shutil.rmtree('/content/temp/')\n",
        "\n",
        "else:\n",
        "    params = {\n",
        "        'save_path': outputDirectory,\n",
        "        'storage_mode': lt.storage_mode_t(2),\n",
        "    }\n",
        "    download_torrent()\n",
        "\n",
        "print('\\nALL DONE!')\n"
      ]
    },
    {
      "cell_type": "markdown",
      "source": [
        "## Transfer from Mega to Google Drive\n",
        "credits to [cheems](https://github.com/cheems)"
      ],
      "metadata": {
        "id": "0BxvhhlRneU2"
      }
    },
    {
      "cell_type": "markdown",
      "source": [
        "### Have a upgraded MEGA Account?"
      ],
      "metadata": {
        "id": "hO8VbsXEoHv6"
      }
    },
    {
      "cell_type": "code",
      "source": [
        "# @markdown <center><h3>Input Your Mega ID</h3></center><br>\n",
        "from functools import wraps\n",
        "import errno\n",
        "import os\n",
        "import signal\n",
        "import subprocess\n",
        "import shlex\n",
        "\n",
        "\n",
        "class TimeoutError(Exception):\n",
        "    pass\n",
        "\n",
        "\n",
        "def timeout(seconds=10, error_message=os.strerror(errno.ETIME)):\n",
        "    def decorator(func):\n",
        "        def _handle_timeout(signum, frame):\n",
        "            raise TimeoutError(error_message)\n",
        "\n",
        "        def wrapper(*args, **kwargs):\n",
        "            signal.signal(signal.SIGALRM, _handle_timeout)\n",
        "            signal.alarm(seconds)\n",
        "            try:\n",
        "                result = func(*args, **kwargs)\n",
        "            finally:\n",
        "                signal.alarm(0)\n",
        "            return result\n",
        "\n",
        "        return wraps(func)(wrapper)\n",
        "\n",
        "    return decorator\n",
        "\n",
        "\n",
        "if not os.path.exists(\"/root/.ipython/ocr.py\"):\n",
        "    from subprocess import run\n",
        "    from shlex import split\n",
        "\n",
        "    shellCmd = \"wget -qq https://raw.githubusercontent.com/biplobsd/OneClickRun/master/res/ocr.py \\\n",
        "                    -O /root/.ipython/ocr.py\"\n",
        "    run(split(shellCmd))\n",
        "from ocr import runSh\n",
        "\n",
        "@timeout(10)\n",
        "def runShT(args):\n",
        "    return runSh(args, output=True)\n",
        "\n",
        "\n",
        "# MEGAcmd installing\n",
        "if not os.path.exists(\"/usr/bin/mega-cmd\"):\n",
        "    print(\"Installing MEGA ...\")\n",
        "    runSh('sudo apt-get -y update')\n",
        "    runSh('sudo apt-get -y install libmms0 libc-ares2 libc6 libcrypto++6 libgcc1 libmediainfo0v5 libpcre3 libpcrecpp0v5 libssl1.1 libstdc++6 libzen0v5 zlib1g apt-transport-https')\n",
        "    runSh('sudo curl -sL -o /var/cache/apt/archives/MEGAcmd.deb https://mega.nz/linux/MEGAsync/Debian_9.0/amd64/megacmd-Debian_9.0_amd64.deb', output=True)\n",
        "    runSh('sudo dpkg -i /var/cache/apt/archives/MEGAcmd.deb', output=True)\n",
        "    print(\"MEGA is installed.\")\n",
        "else:\n",
        "    !pkill mega-cmd\n",
        "\n",
        "# INPUT YOUR MEGA ID\n",
        "\n",
        "USERNAME = \"\"  # @param {type:\"string\"}\n",
        "PASSWORD = \"\"  # @param {type:\"string\"}\n",
        "if not (USERNAME == \"\" or PASSWORD == \"\"):\n",
        "    try:\n",
        "        runShT(f\"mega-login {USERNAME} {PASSWORD}\")\n",
        "    except TimeoutError:\n",
        "        runSh('mega-whoami', output=True)\n",
        "else:\n",
        "    print(\"Please Input your Mega IDs.\")\n",
        "# @markdown *After signing in, use the cell below to use the quota of the account above.*"
      ],
      "metadata": {
        "cellView": "form",
        "id": "ABEIy61ZoNNb"
      },
      "execution_count": null,
      "outputs": []
    },
    {
      "cell_type": "markdown",
      "source": [
        "### Public Link Transfer"
      ],
      "metadata": {
        "id": "N0HN-rrXn-Fr"
      }
    },
    {
      "cell_type": "code",
      "source": [
        "import sys, os, urllib.request\n",
        "import time\n",
        "import subprocess\n",
        "import contextlib\n",
        "from IPython.display import clear_output\n",
        "#@markdown <br><center><img src='https://mega.nz/favicon.ico?v=3' height=\"50\" alt=\"MEGA-logo\"/></center>\n",
        "#@markdown <center><h2>Transfer from Mega to Google Drive</h2></center><br>\n",
        "HOME = os.path.expanduser(\"~\")\n",
        "if not os.path.exists(f\"{HOME}/.ipython/ocr.py\"):\n",
        "    hCode = \"https://raw.githubusercontent.com/biplobsd/\" \\\n",
        "                \"OneClickRun/master/res/ocr.py\"\n",
        "    urllib.request.urlretrieve(hCode, f\"{HOME}/.ipython/ocr.py\")\n",
        "\n",
        "from ocr import (\n",
        "    runSh,\n",
        "    loadingAn,\n",
        ")\n",
        "URL = \"\" #@param {type:\"string\"}\n",
        "OUTPUT_PATH = \"\" #@param {type:\"string\"}\n",
        "#@markdown #####_*Sometimes this cell doesn't stop itself after the completion of the transfer. In case of that stop the cell manually._\n",
        "if not OUTPUT_PATH:\n",
        "  os.makedirs(\"downloads\", exist_ok=True)\n",
        "  OUTPUT_PATH = \"downloads\"\n",
        "# MEGAcmd installing\n",
        "if not os.path.exists(\"/usr/bin/mega-cmd\"):\n",
        "    loadingAn()\n",
        "    print(\"Installing MEGA ...\")\n",
        "    runSh('sudo apt-get -y update')\n",
        "    runSh('sudo apt-get -y install libmms0 libc-ares2 libc6 libcrypto++6 libgcc1 libmediainfo0v5 libpcre3 libpcrecpp0v5 libssl1.1 libstdc++6 libzen0v5 zlib1g apt-transport-https')\n",
        "    runSh('sudo curl -sL -o /var/cache/apt/archives/MEGAcmd.deb https://mega.nz/linux/MEGAsync/Debian_9.0/amd64/megacmd-Debian_9.0_amd64.deb', output=True)\n",
        "    runSh('sudo dpkg -i /var/cache/apt/archives/MEGAcmd.deb', output=True)\n",
        "    print(\"MEGA is installed.\")\n",
        "    clear_output()\n",
        "\n",
        "# Unix, Windows and old Macintosh end-of-line\n",
        "newlines = ['\\n', '\\r\\n', '\\r']\n",
        "\n",
        "def unbuffered(proc, stream='stdout'):\n",
        "    stream = getattr(proc, stream)\n",
        "    with contextlib.closing(stream):\n",
        "        while True:\n",
        "            out = []\n",
        "            last = stream.read(1)\n",
        "            # Don't loop forever\n",
        "            if last == '' and proc.poll() is not None:\n",
        "                break\n",
        "            while last not in newlines:\n",
        "                # Don't loop forever\n",
        "                if last == '' and proc.poll() is not None:\n",
        "                    break\n",
        "                out.append(last)\n",
        "                last = stream.read(1)\n",
        "            out = ''.join(out)\n",
        "            yield out\n",
        "\n",
        "\n",
        "def transfare():\n",
        "    import codecs\n",
        "    decoder = codecs.getincrementaldecoder(\"UTF-8\")()\n",
        "    cmd = [\"mega-get\", URL, OUTPUT_PATH]\n",
        "    proc = subprocess.Popen(\n",
        "        cmd,\n",
        "        stdout=subprocess.PIPE,\n",
        "        stderr=subprocess.STDOUT,\n",
        "        # Make all end-of-lines '\\n'\n",
        "        universal_newlines=True,\n",
        "    )\n",
        "    for line in unbuffered(proc):\n",
        "        print(line)\n",
        "        \n",
        "\n",
        "\n",
        "transfare()\n",
        "\n"
      ],
      "metadata": {
        "cellView": "form",
        "id": "A2JqU2nrntxS"
      },
      "execution_count": null,
      "outputs": []
    },
    {
      "cell_type": "markdown",
      "source": [
        "## Transfer from Google Drive to Mega\n",
        "credits to [Suraj Bahadur](https://github.com/surajbahadur591)"
      ],
      "metadata": {
        "id": "g4Z00ThaogVt"
      }
    },
    {
      "cell_type": "markdown",
      "source": [
        "### Sign In"
      ],
      "metadata": {
        "id": "Tkdsu3Ppo14_"
      }
    },
    {
      "cell_type": "code",
      "source": [
        "# @markdown <center><h2>Input your Mega ID and Password</h2></center><br>\n",
        "\n",
        "# https://github.com/surajbahadur591\n",
        "\n",
        "from functools import wraps\n",
        "import errno\n",
        "import os\n",
        "import signal\n",
        "import subprocess\n",
        "import shlex\n",
        "\n",
        "\n",
        "class TimeoutError(Exception):\n",
        "    pass\n",
        "\n",
        "\n",
        "def timeout(seconds=10, error_message=os.strerror(errno.ETIME)):\n",
        "    def decorator(func):\n",
        "        def _handle_timeout(signum, frame):\n",
        "            raise TimeoutError(error_message)\n",
        "\n",
        "        def wrapper(*args, **kwargs):\n",
        "            signal.signal(signal.SIGALRM, _handle_timeout)\n",
        "            signal.alarm(seconds)\n",
        "            try:\n",
        "                result = func(*args, **kwargs)\n",
        "            finally:\n",
        "                signal.alarm(0)\n",
        "            return result\n",
        "\n",
        "        return wraps(func)(wrapper)\n",
        "\n",
        "    return decorator\n",
        "\n",
        "\n",
        "if not os.path.exists(\"/root/.ipython/ocr.py\"):\n",
        "    from subprocess import run\n",
        "    from shlex import split\n",
        "\n",
        "    shellCmd = \"wget -qq https://raw.githubusercontent.com/biplobsd/OneClickRun/master/res/ocr.py \\\n",
        "                    -O /root/.ipython/ocr.py\"\n",
        "    run(split(shellCmd))\n",
        "from ocr import runSh\n",
        "\n",
        "@timeout(10)\n",
        "def runShT(args):\n",
        "    return runSh(args, output=True)\n",
        "\n",
        "\n",
        "# MEGAcmd installing\n",
        "if not os.path.exists(\"/usr/bin/mega-cmd\"):\n",
        "    print(\"Installing MEGA ...\")\n",
        "    runSh('sudo apt-get -y update')\n",
        "    runSh('sudo apt-get -y install libmms0 libc-ares2 libc6 libcrypto++6 libgcc1 libmediainfo0v5 libpcre3 libpcrecpp0v5 libssl1.1 libstdc++6 libzen0v5 zlib1g apt-transport-https')\n",
        "    runSh('sudo curl -sL -o /var/cache/apt/archives/MEGAcmd.deb https://mega.nz/linux/MEGAsync/Debian_9.0/amd64/megacmd-Debian_9.0_amd64.deb', output=True)\n",
        "    runSh('sudo dpkg -i /var/cache/apt/archives/MEGAcmd.deb', output=True)\n",
        "    print(\"MEGA is installed.\")\n",
        "else:\n",
        "    !pkill mega-cmd\n",
        "\n",
        "# INPUT YOUR MEGA ID\n",
        "\n",
        "USERNAME = \"\"  # @param {type:\"string\"}\n",
        "PASSWORD = \"\"  # @param {type:\"string\"}\n",
        "if not (USERNAME == \"\" or PASSWORD == \"\"):\n",
        "    try:\n",
        "        runShT(f\"mega-login {USERNAME} {PASSWORD}\")\n",
        "    except TimeoutError:\n",
        "        runSh('mega-whoami', output=True)\n",
        "else:\n",
        "    print(\"Please Input your Mega ID.\")\n"
      ],
      "metadata": {
        "cellView": "form",
        "id": "3Mr0hJHFoqfn"
      },
      "execution_count": null,
      "outputs": []
    },
    {
      "cell_type": "markdown",
      "source": [
        "### Transfer"
      ],
      "metadata": {
        "id": "XycaypsUpAK2"
      }
    },
    {
      "cell_type": "code",
      "source": [
        "import time\n",
        "import subprocess\n",
        "import contextlib\n",
        "from IPython.display import clear_output\n",
        "# @markdown <br><center><img src='https://i.imgur.com/UjCRbEF.png' height=\"300\" alt=\"netdata\"/></center>\n",
        "# @markdown <center><h2>TRANSFER NOW</h2></center><br>\n",
        "# TRANSFER NOW\n",
        "\n",
        "PATH_TO_FILE = \"/content/drive/\"  # @param {type:\"string\"}\n",
        "NAME_OF_FILE_ON_MEGA = \"\"  # @param {type:\"string\"}\n",
        "# Unix, Windows and old Macintosh end-of-line\n",
        "newlines = ['\\n', '\\r\\n', '\\r']\n",
        "\n",
        "\n",
        "def unbuffered(proc, stream='stdout'):\n",
        "    stream = getattr(proc, stream)\n",
        "    with contextlib.closing(stream):\n",
        "        while True:\n",
        "            out = []\n",
        "            last = stream.read(1)\n",
        "            # Don't loop forever\n",
        "            if last == '' and proc.poll() is not None:\n",
        "                break\n",
        "            while last not in newlines:\n",
        "                # Don't loop forever\n",
        "                if last == '' and proc.poll() is not None:\n",
        "                    break\n",
        "                out.append(last)\n",
        "                last = stream.read(1)\n",
        "            out = ''.join(out)\n",
        "            yield out\n",
        "\n",
        "\n",
        "def transfare():\n",
        "    cmd = ['mega-put', PATH_TO_FILE, \"/\" + NAME_OF_FILE_ON_MEGA]\n",
        "    proc = subprocess.Popen(\n",
        "        cmd,\n",
        "        stdout=subprocess.PIPE,\n",
        "        stderr=subprocess.STDOUT,\n",
        "        # Make all end-of-lines '\\n'\n",
        "        universal_newlines=True,\n",
        "    )\n",
        "    for line in unbuffered(proc):\n",
        "        clear_output(wait=True)\n",
        "        print(line)\n",
        "\n",
        "try:\n",
        "    transfare()\n",
        "except FileNotFoundError:\n",
        "    print(\"Login your account!\")\n"
      ],
      "metadata": {
        "cellView": "form",
        "id": "-Iy8EWMDpCgm"
      },
      "execution_count": null,
      "outputs": []
    },
    {
      "cell_type": "markdown",
      "source": [
        "## Compression\n",
        "credits to [cheems](https://github.com/cheems)"
      ],
      "metadata": {
        "id": "muhEmQfUpkx7"
      }
    },
    {
      "cell_type": "markdown",
      "source": [
        "### Compression"
      ],
      "metadata": {
        "id": "Ph-IqbzHtWTQ"
      }
    },
    {
      "cell_type": "markdown",
      "source": [
        "#### ZIP File"
      ],
      "metadata": {
        "id": "PWZM3wxutZHr"
      }
    },
    {
      "cell_type": "code",
      "source": [
        "#@markdown <br><center><img src='https://icons.iconarchive.com/icons/hopstarter/soft-scraps/256/Folder-Compressed-icon.png' height=\"50\" alt=\"Gdrive-logo\"/></center>\n",
        "#@markdown <center><h3>Compress ZIP File</h3></center><br>\n",
        "\n",
        "OUTPUT_FILE_PATH = \"/content/drive/file.zip\" #@param {type:\"string\"}\n",
        "INPUT_FOLDER_OR_FILE_PATH = \"/content/drive/\" #@param {type:\"string\"}\n",
        "!zip OUTPUT_FILE_PATH INPUT_FOLDER_OR_FILE_PATH"
      ],
      "metadata": {
        "cellView": "form",
        "id": "tES0TV_Gtnjf"
      },
      "execution_count": null,
      "outputs": []
    },
    {
      "cell_type": "markdown",
      "source": [
        "#### RAR File"
      ],
      "metadata": {
        "id": "1n2k2vRftdBN"
      }
    },
    {
      "cell_type": "markdown",
      "source": [
        "##### Dependency"
      ],
      "metadata": {
        "id": "2Xp1FlECu0sg"
      }
    },
    {
      "cell_type": "code",
      "source": [
        "#@markdown <br><center><img src='https://icons.iconarchive.com/icons/hopstarter/soft-scraps/256/Folder-Compressed-icon.png' height=\"50\" alt=\"Gdrive-logo\"/></center>\n",
        "#@markdown <center><h3>Dependency</h3></center><br>\n",
        "#@markdown <center><p>Run this cell!</p></center><br>\n",
        "!apt-get install rar"
      ],
      "metadata": {
        "cellView": "form",
        "id": "5rykLI_lugiU"
      },
      "execution_count": null,
      "outputs": []
    },
    {
      "cell_type": "markdown",
      "source": [
        "##### Not Password Protected"
      ],
      "metadata": {
        "id": "LRX8ckS1u7Eh"
      }
    },
    {
      "cell_type": "code",
      "source": [
        "#@markdown <br><center><img src='https://icons.iconarchive.com/icons/hopstarter/soft-scraps/256/Folder-Compressed-icon.png' height=\"50\" alt=\"Gdrive-logo\"/></center>\n",
        "#@markdown <center><h3>Compress RAR File</h3></center><br>\n",
        "\n",
        "OUTPUT_FILE_PATH = \"/content/drive/file.rar\" #@param {type:\"string\"}\n",
        "INPUT_FOLDER_OR_FILE_PATH = \"/content/drive/\" #@param {type:\"string\"}\n",
        "!rar a OUTPUT_FILE_PATH INPUT_FOLDER_OR_FILE_PATH"
      ],
      "metadata": {
        "cellView": "form",
        "id": "YZJYBkyPucLB"
      },
      "execution_count": null,
      "outputs": []
    },
    {
      "cell_type": "markdown",
      "source": [
        "##### Password Protected"
      ],
      "metadata": {
        "id": "2AUsGQosvADM"
      }
    },
    {
      "cell_type": "code",
      "source": [
        "#@markdown <br><center><img src='https://icons.iconarchive.com/icons/hopstarter/soft-scraps/256/Folder-Compressed-icon.png' height=\"50\" alt=\"Gdrive-logo\"/></center>\n",
        "#@markdown <center><h3>Compress RAR File</h3></center><br>\n",
        "\n",
        "OUTPUT_FILE_PATH = \"/content/drive/file.rar\" #@param {type:\"string\"}\n",
        "INPUT_FOLDER_OR_FILE_PATH = \"/content/drive/\" #@param {type:\"string\"}\n",
        "!rar a -p OUTPUT_FILE_PATH INPUT_FOLDER_OR_FILE_PATH"
      ],
      "metadata": {
        "cellView": "form",
        "id": "Rynib6SQvDAN"
      },
      "execution_count": null,
      "outputs": []
    },
    {
      "cell_type": "markdown",
      "source": [
        "#### TAR File"
      ],
      "metadata": {
        "id": "B4s111Fotea8"
      }
    },
    {
      "cell_type": "markdown",
      "source": [
        "##### .tar"
      ],
      "metadata": {
        "id": "saNvUnsvvOlx"
      }
    },
    {
      "cell_type": "code",
      "source": [
        "#@markdown <br><center><img src='https://icons.iconarchive.com/icons/hopstarter/soft-scraps/256/Folder-Compressed-icon.png' height=\"50\" alt=\"Gdrive-logo\"/></center>\n",
        "#@markdown <center><h3>Compress TAR File</h3></center><br>\n",
        "\n",
        "OUTPUT_FILE_PATH = \"/content/drive/file.tar\" #@param {type:\"string\"}\n",
        "INPUT_FOLDER_OR_FILE_PATH = \"/content/drive/\" #@param {type:\"string\"}\n",
        "!tar -cvf OUTPUT_FILE_PATH INPUT_FOLDER_OR_FILE_PATH"
      ],
      "metadata": {
        "cellView": "form",
        "id": "Kt6qXSU9vURB"
      },
      "execution_count": null,
      "outputs": []
    },
    {
      "cell_type": "markdown",
      "source": [
        "##### .tar.gz"
      ],
      "metadata": {
        "id": "_1rljRwsvRPG"
      }
    },
    {
      "cell_type": "code",
      "source": [
        "#@markdown <br><center><img src='https://icons.iconarchive.com/icons/hopstarter/soft-scraps/256/Folder-Compressed-icon.png' height=\"50\" alt=\"Gdrive-logo\"/></center>\n",
        "#@markdown <center><h3>Compress TAR.GZ File</h3></center><br>\n",
        "\n",
        "OUTPUT_FILE_PATH = \"/content/drive/file.tar.gz\" #@param {type:\"string\"}\n",
        "INPUT_FOLDER_OR_FILE_PATH = \"/content/drive/\" #@param {type:\"string\"}\n",
        "!tar -czvf OUTPUT_FILE_PATH INPUT_FOLDER_OR_FILE_PATH"
      ],
      "metadata": {
        "cellView": "form",
        "id": "SkS0cfWhvlV7"
      },
      "execution_count": null,
      "outputs": []
    },
    {
      "cell_type": "markdown",
      "source": [
        "##### tar.bz2"
      ],
      "metadata": {
        "id": "IyAdmy19vSiU"
      }
    },
    {
      "cell_type": "code",
      "source": [
        "#@markdown <br><center><img src='https://icons.iconarchive.com/icons/hopstarter/soft-scraps/256/Folder-Compressed-icon.png' height=\"50\" alt=\"Gdrive-logo\"/></center>\n",
        "#@markdown <center><h3>Compress TAR.BZ2 File</h3></center><br>\n",
        "\n",
        "OUTPUT_FILE_PATH = \"/content/drive/file.tar.bz2\" #@param {type:\"string\"}\n",
        "INPUT_FOLDER_OR_FILE_PATH = \"/content/drive/\" #@param {type:\"string\"}\n",
        "!tar -cjvf OUTPUT_FILE_PATH INPUT_FOLDER_OR_FILE_PATH"
      ],
      "metadata": {
        "cellView": "form",
        "id": "CpnIsYsCvmec"
      },
      "execution_count": null,
      "outputs": []
    },
    {
      "cell_type": "markdown",
      "source": [
        "### Decompression"
      ],
      "metadata": {
        "id": "H6Y62Dgmp6bA"
      }
    },
    {
      "cell_type": "markdown",
      "source": [
        "#### ZIP File"
      ],
      "metadata": {
        "id": "mOBqp9ipqCfe"
      }
    },
    {
      "cell_type": "code",
      "source": [
        "#@markdown <br><center><img src='https://icons.iconarchive.com/icons/visualpharm/must-have/256/Open-icon.png' height=\"50\" alt=\"Gdrive-logo\"/></center>\n",
        "#@markdown <center><h3>Decompress ZIP File</h3></center><br>\n",
        "\n",
        "INPUT_FILE_PATH = \"/content/drive/file.zip\" #@param {type:\"string\"}\n",
        "OUTPUT_PATH = \"/content/drive/\" #@param {type:\"string\"}\n",
        "!unzip INPUT_FILE_PATH -d OUTPUT_PATH"
      ],
      "metadata": {
        "cellView": "form",
        "id": "wIAtxwBhqNXh"
      },
      "execution_count": null,
      "outputs": []
    },
    {
      "cell_type": "markdown",
      "source": [
        "#### RAR File"
      ],
      "metadata": {
        "id": "Hg_wx3pZrxbG"
      }
    },
    {
      "cell_type": "code",
      "source": [
        "#@markdown <br><center><img src='https://icons.iconarchive.com/icons/visualpharm/must-have/256/Open-icon.png' height=\"50\" alt=\"Gdrive-logo\"/></center>\n",
        "#@markdown <center><h3>Decompress RAR File</h3></center><br>\n",
        "\n",
        "INPUT_FILE_PATH = \"/content/drive/file.rar\" #@param {type:\"string\"}\n",
        "OUTPUT_PATH = \"/content/drive/\" #@param {type:\"string\"}\n",
        "!unrar x INPUT_FILE_PATH OUTPUT_PATH"
      ],
      "metadata": {
        "cellView": "form",
        "id": "OaZoUTqvr15k"
      },
      "execution_count": null,
      "outputs": []
    },
    {
      "cell_type": "markdown",
      "source": [
        "##### Password Protected"
      ],
      "metadata": {
        "id": "FGPcVZPGsKup"
      }
    },
    {
      "cell_type": "code",
      "source": [
        "#@markdown <br><center><img src='https://icons.iconarchive.com/icons/visualpharm/must-have/256/Open-icon.png' height=\"50\" alt=\"Gdrive-logo\"/></center>\n",
        "#@markdown <center><h3>Decompress RAR File</h3></center><br>\n",
        "\n",
        "INPUT_FILE_PATH = \"/content/drive/\" #@param {type:\"string\"}\n",
        "OUTPUT_PATH = \"/content/drive/\" #@param {type:\"string\"}\n",
        "!unrar x -Y INPUT_FILE_PATH OUTPUT_PATH"
      ],
      "metadata": {
        "id": "wi_ozR4FsSuW"
      },
      "execution_count": null,
      "outputs": []
    },
    {
      "cell_type": "markdown",
      "source": [
        "#### TAR File"
      ],
      "metadata": {
        "id": "O0RAk4FBrzQo"
      }
    },
    {
      "cell_type": "markdown",
      "source": [
        "##### .tar"
      ],
      "metadata": {
        "id": "hMEWLw5gsw8S"
      }
    },
    {
      "cell_type": "code",
      "source": [
        "#@markdown <br><center><img src='https://icons.iconarchive.com/icons/visualpharm/must-have/256/Open-icon.png' height=\"50\" alt=\"Gdrive-logo\"/></center>\n",
        "#@markdown <center><h3>Decompress TAR File</h3></center><br>\n",
        "\n",
        "INPUT_FILE_PATH = \"/content/drive/file.tar\" #@param {type:\"string\"}\n",
        "OUTPUT_PATH = \"/content/drive/\" #@param {type:\"string\"}\n",
        "!tar -xvf INPUT_FILE_PATH -C OUTPUT_PATH"
      ],
      "metadata": {
        "cellView": "form",
        "id": "0J5f6LVgs4h0"
      },
      "execution_count": null,
      "outputs": []
    },
    {
      "cell_type": "markdown",
      "source": [
        "##### .tar.gz"
      ],
      "metadata": {
        "id": "f8UjtQuSs0AK"
      }
    },
    {
      "cell_type": "code",
      "source": [
        "#@markdown <br><center><img src='https://icons.iconarchive.com/icons/visualpharm/must-have/256/Open-icon.png' height=\"50\" alt=\"Gdrive-logo\"/></center>\n",
        "#@markdown <center><h3>Decompress TAR.GZ File</h3></center><br>\n",
        "\n",
        "INPUT_FILE_PATH = \"/content/drive/file.tar.gz\" #@param {type:\"string\"}\n",
        "OUTPUT_PATH = \"/content/drive/\" #@param {type:\"string\"}\n",
        "!tar -xzvf INPUT_FILE_PATH -C OUTPUT_PATH"
      ],
      "metadata": {
        "cellView": "form",
        "id": "Ne4--h8bs6SW"
      },
      "execution_count": null,
      "outputs": []
    },
    {
      "cell_type": "markdown",
      "source": [
        "##### .tar.bz2"
      ],
      "metadata": {
        "id": "J2-uYCNVs2c7"
      }
    },
    {
      "cell_type": "code",
      "source": [
        "#@markdown <br><center><img src='https://icons.iconarchive.com/icons/visualpharm/must-have/256/Open-icon.png' height=\"50\" alt=\"Gdrive-logo\"/></center>\n",
        "#@markdown <center><h3>Decompress TAR.BZ2 File</h3></center><br>\n",
        "\n",
        "INPUT_FILE_PATH = \"/content/drive/file.tar.bz2\" #@param {type:\"string\"}\n",
        "OUTPUT_PATH = \"/content/drive/\" #@param {type:\"string\"}\n",
        "!tar -xjvf INPUT_FILE_PATH -C OUTPUT_PATH"
      ],
      "metadata": {
        "cellView": "form",
        "id": "MBOqIZbcs7T3"
      },
      "execution_count": null,
      "outputs": []
    }
  ],
  "metadata": {
    "colab": {
      "name": "lemons' swiss army knife for Colab.ipynb",
      "provenance": [],
      "include_colab_link": true
    },
    "kernelspec": {
      "display_name": "Python 3",
      "name": "python3"
    },
    "language_info": {
      "name": "python"
    }
  },
  "nbformat": 4,
  "nbformat_minor": 0
}
